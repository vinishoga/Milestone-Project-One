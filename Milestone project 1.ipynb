{
 "cells": [
  {
   "cell_type": "code",
   "execution_count": null,
   "metadata": {},
   "outputs": [],
   "source": [
    "position = ['1','2','3','4','5','6','7','8','9']\n",
    "players = {'player_1':'X','player_2':'O'}\n",
    "\n",
    "def display_board():\n",
    "    print(\"\\t \\t|\\t \\t|\\t \\t\")\n",
    "    print(f\"\\t{position[6]}\\t|\\t{position[7]}\\t|\\t{position[8]}\\t\")\n",
    "    print(\"----------------|---------------|----------------\")\n",
    "    print(f\"\\t{position[3]}\\t|\\t{position[4]}\\t|\\t{position[5]}\\t\")\n",
    "    print(\"----------------|---------------|----------------\")\n",
    "    print(f\"\\t{position[0]}\\t|\\t{position[1]}\\t|\\t{position[2]}\\t\")\n",
    "    print(\"\\t \\t|\\t \\t|\\t \\t\")\n",
    "\n",
    "def select_position(selected_position,player):\n",
    "    selected_position = selected_position -1\n",
    "    position[selected_position] = player\n",
    "    \n",
    "def game():\n",
    "    print('Bem vindo ao jogo da velha totalmente progamado em pai ton')\n",
    "    print('Dica: o jogo fica mais divertido se você tiver amigos')\n",
    "    while true:    \n",
    "        player_1_choise = input(\"Player 1, você deseja ser [X] ou [O]?\")\n",
    "        player_1_choise.upper()\n",
    "        if player_1_choise == 'X':\n",
    "            players['player_1'] = player_1_choise\n",
    "            players['player_2'] = 'O'\n",
    "            break\n",
    "        elif player_2_choise == 'O':\n",
    "            players['player_1'] = player_1_choise\n",
    "            players['player_2'] = 'X'\n",
    "            break\n",
    "        elif:\n",
    "            print('Opçao invalida')"
   ]
  }
 ],
 "metadata": {
  "kernelspec": {
   "display_name": "Python 3",
   "language": "python",
   "name": "python3"
  },
  "language_info": {
   "codemirror_mode": {
    "name": "ipython",
    "version": 3
   },
   "file_extension": ".py",
   "mimetype": "text/x-python",
   "name": "python",
   "nbconvert_exporter": "python",
   "pygments_lexer": "ipython3",
   "version": "3.7.1"
  }
 },
 "nbformat": 4,
 "nbformat_minor": 2
}
